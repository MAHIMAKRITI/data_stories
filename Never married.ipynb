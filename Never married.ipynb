{
 "cells": [
  {
   "cell_type": "markdown",
   "id": "fcd4e95b",
   "metadata": {},
   "source": [
    "## Never married is on the rise\n",
    "\n",
    "According to the [US Census](https://www.census.gov/content/dam/Census/library/publications/2021/demo/p70-167.pdf) from 2006 to 2016 the number of men and women not marrying is on the rise. This rise is visible across people of all age groups. The objective of this notebook is to create visualisations to demonstrate the change and also explore the seaborn library.\n",
    "You can find the dataset link [here](https://data.world/makeovermonday/2021w23/workspace/file?filename=Never+Married.xlsx)"
   ]
  },
  {
   "cell_type": "code",
   "execution_count": 4,
   "id": "fc7f33cb",
   "metadata": {},
   "outputs": [],
   "source": [
    "import pandas as pd\n",
    "import numpy as np\n",
    "import seaborn as sns\n"
   ]
  },
  {
   "cell_type": "code",
   "execution_count": 59,
   "id": "dd22be5d",
   "metadata": {},
   "outputs": [
    {
     "data": {
      "text/html": [
       "<div>\n",
       "<style scoped>\n",
       "    .dataframe tbody tr th:only-of-type {\n",
       "        vertical-align: middle;\n",
       "    }\n",
       "\n",
       "    .dataframe tbody tr th {\n",
       "        vertical-align: top;\n",
       "    }\n",
       "\n",
       "    .dataframe thead th {\n",
       "        text-align: right;\n",
       "    }\n",
       "</style>\n",
       "<table border=\"1\" class=\"dataframe\">\n",
       "  <thead>\n",
       "    <tr style=\"text-align: right;\">\n",
       "      <th></th>\n",
       "      <th>Gender</th>\n",
       "      <th>Age Range</th>\n",
       "      <th>Year</th>\n",
       "      <th>Never Married</th>\n",
       "    </tr>\n",
       "  </thead>\n",
       "  <tbody>\n",
       "    <tr>\n",
       "      <th>0</th>\n",
       "      <td>Women</td>\n",
       "      <td>25-29</td>\n",
       "      <td>2006</td>\n",
       "      <td>45.6</td>\n",
       "    </tr>\n",
       "    <tr>\n",
       "      <th>1</th>\n",
       "      <td>Women</td>\n",
       "      <td>25-29</td>\n",
       "      <td>2016</td>\n",
       "      <td>59.7</td>\n",
       "    </tr>\n",
       "    <tr>\n",
       "      <th>2</th>\n",
       "      <td>Men</td>\n",
       "      <td>25-29</td>\n",
       "      <td>2006</td>\n",
       "      <td>57.9</td>\n",
       "    </tr>\n",
       "    <tr>\n",
       "      <th>3</th>\n",
       "      <td>Men</td>\n",
       "      <td>25-29</td>\n",
       "      <td>2016</td>\n",
       "      <td>70.9</td>\n",
       "    </tr>\n",
       "    <tr>\n",
       "      <th>4</th>\n",
       "      <td>Women</td>\n",
       "      <td>30-34</td>\n",
       "      <td>2006</td>\n",
       "      <td>26.2</td>\n",
       "    </tr>\n",
       "    <tr>\n",
       "      <th>5</th>\n",
       "      <td>Women</td>\n",
       "      <td>30-34</td>\n",
       "      <td>2016</td>\n",
       "      <td>36.1</td>\n",
       "    </tr>\n",
       "    <tr>\n",
       "      <th>6</th>\n",
       "      <td>Men</td>\n",
       "      <td>30-34</td>\n",
       "      <td>2006</td>\n",
       "      <td>34.8</td>\n",
       "    </tr>\n",
       "    <tr>\n",
       "      <th>7</th>\n",
       "      <td>Men</td>\n",
       "      <td>30-34</td>\n",
       "      <td>2016</td>\n",
       "      <td>45.8</td>\n",
       "    </tr>\n",
       "    <tr>\n",
       "      <th>8</th>\n",
       "      <td>Women</td>\n",
       "      <td>35-44</td>\n",
       "      <td>2006</td>\n",
       "      <td>16.4</td>\n",
       "    </tr>\n",
       "    <tr>\n",
       "      <th>9</th>\n",
       "      <td>Women</td>\n",
       "      <td>35-44</td>\n",
       "      <td>2016</td>\n",
       "      <td>21.2</td>\n",
       "    </tr>\n",
       "    <tr>\n",
       "      <th>10</th>\n",
       "      <td>Men</td>\n",
       "      <td>35-44</td>\n",
       "      <td>2006</td>\n",
       "      <td>21.6</td>\n",
       "    </tr>\n",
       "    <tr>\n",
       "      <th>11</th>\n",
       "      <td>Men</td>\n",
       "      <td>35-44</td>\n",
       "      <td>2016</td>\n",
       "      <td>26.5</td>\n",
       "    </tr>\n",
       "    <tr>\n",
       "      <th>12</th>\n",
       "      <td>Women</td>\n",
       "      <td>45-54</td>\n",
       "      <td>2006</td>\n",
       "      <td>10.6</td>\n",
       "    </tr>\n",
       "    <tr>\n",
       "      <th>13</th>\n",
       "      <td>Women</td>\n",
       "      <td>45-54</td>\n",
       "      <td>2016</td>\n",
       "      <td>13.5</td>\n",
       "    </tr>\n",
       "    <tr>\n",
       "      <th>14</th>\n",
       "      <td>Men</td>\n",
       "      <td>45-54</td>\n",
       "      <td>2006</td>\n",
       "      <td>13.6</td>\n",
       "    </tr>\n",
       "    <tr>\n",
       "      <th>15</th>\n",
       "      <td>Men</td>\n",
       "      <td>45-54</td>\n",
       "      <td>2016</td>\n",
       "      <td>17.2</td>\n",
       "    </tr>\n",
       "    <tr>\n",
       "      <th>16</th>\n",
       "      <td>Women</td>\n",
       "      <td>55+</td>\n",
       "      <td>2006</td>\n",
       "      <td>5.5</td>\n",
       "    </tr>\n",
       "    <tr>\n",
       "      <th>17</th>\n",
       "      <td>Women</td>\n",
       "      <td>55+</td>\n",
       "      <td>2016</td>\n",
       "      <td>7.4</td>\n",
       "    </tr>\n",
       "    <tr>\n",
       "      <th>18</th>\n",
       "      <td>Men</td>\n",
       "      <td>55+</td>\n",
       "      <td>2006</td>\n",
       "      <td>6.1</td>\n",
       "    </tr>\n",
       "    <tr>\n",
       "      <th>19</th>\n",
       "      <td>Men</td>\n",
       "      <td>55+</td>\n",
       "      <td>2016</td>\n",
       "      <td>8.8</td>\n",
       "    </tr>\n",
       "  </tbody>\n",
       "</table>\n",
       "</div>"
      ],
      "text/plain": [
       "   Gender Age Range  Year  Never Married\n",
       "0   Women     25-29  2006           45.6\n",
       "1   Women     25-29  2016           59.7\n",
       "2     Men     25-29  2006           57.9\n",
       "3     Men     25-29  2016           70.9\n",
       "4   Women     30-34  2006           26.2\n",
       "5   Women     30-34  2016           36.1\n",
       "6     Men     30-34  2006           34.8\n",
       "7     Men     30-34  2016           45.8\n",
       "8   Women     35-44  2006           16.4\n",
       "9   Women     35-44  2016           21.2\n",
       "10    Men     35-44  2006           21.6\n",
       "11    Men     35-44  2016           26.5\n",
       "12  Women     45-54  2006           10.6\n",
       "13  Women     45-54  2016           13.5\n",
       "14    Men     45-54  2006           13.6\n",
       "15    Men     45-54  2016           17.2\n",
       "16  Women       55+  2006            5.5\n",
       "17  Women       55+  2016            7.4\n",
       "18    Men       55+  2006            6.1\n",
       "19    Men       55+  2016            8.8"
      ]
     },
     "execution_count": 59,
     "metadata": {},
     "output_type": "execute_result"
    }
   ],
   "source": [
    "df = pd.read_csv(\"D:/datasets_tableau/Never Married.csv\")\n",
    "df"
   ]
  },
  {
   "cell_type": "code",
   "execution_count": 60,
   "id": "3d187fc8",
   "metadata": {},
   "outputs": [
    {
     "name": "stdout",
     "output_type": "stream",
     "text": [
      "<class 'pandas.core.frame.DataFrame'>\n",
      "RangeIndex: 20 entries, 0 to 19\n",
      "Data columns (total 4 columns):\n",
      " #   Column         Non-Null Count  Dtype  \n",
      "---  ------         --------------  -----  \n",
      " 0   Gender         20 non-null     object \n",
      " 1   Age Range      20 non-null     object \n",
      " 2   Year           20 non-null     int64  \n",
      " 3   Never Married  20 non-null     float64\n",
      "dtypes: float64(1), int64(1), object(2)\n",
      "memory usage: 768.0+ bytes\n"
     ]
    }
   ],
   "source": [
    "df.info()"
   ]
  },
  {
   "cell_type": "code",
   "execution_count": 20,
   "id": "431d3bf5",
   "metadata": {},
   "outputs": [
    {
     "data": {
      "text/plain": [
       "0     45.6\n",
       "1     59.7\n",
       "2     57.9\n",
       "3     70.9\n",
       "4     26.2\n",
       "5     36.1\n",
       "6     34.8\n",
       "7     45.8\n",
       "8     16.4\n",
       "9     21.2\n",
       "10    21.6\n",
       "11    26.5\n",
       "12    10.6\n",
       "13    13.5\n",
       "14    13.6\n",
       "15    17.2\n",
       "16     5.5\n",
       "17     7.4\n",
       "18     6.1\n",
       "19     8.8\n",
       "Name: Never Married, dtype: float64"
      ]
     },
     "execution_count": 20,
     "metadata": {},
     "output_type": "execute_result"
    }
   ],
   "source": [
    "df['Never Married'].astype(float)"
   ]
  },
  {
   "cell_type": "code",
   "execution_count": 31,
   "id": "26fb23b1",
   "metadata": {},
   "outputs": [],
   "source": [
    "women = df[df['Gender'] == 'Women']\n",
    "men = df[df['Gender'] == 'Men']"
   ]
  },
  {
   "cell_type": "code",
   "execution_count": 56,
   "id": "dbaadc80",
   "metadata": {
    "scrolled": false
   },
   "outputs": [
    {
     "data": {
      "image/png": "[encoded data removed]",
      "text/plain": [
       "<Figure size 432x288 with 1 Axes>"
      ]
     },
     "metadata": {
      "needs_background": "light"
     },
     "output_type": "display_data"
    }
   ],
   "source": [
    "color = [\"pink\", \"grey\"]\n",
    "sns.set_palette(color)\n",
    "ax = sns.barplot(data=women, x=\"Never Married\", y= \"Age Range\",hue=\"Year\")\n",
    "for i in ax.containers:\n",
    "    ax.bar_label(i,)"
   ]
  },
  {
   "cell_type": "code",
   "execution_count": 58,
   "id": "9e1ff3d7",
   "metadata": {},
   "outputs": [
    {
     "data": {
      "image/png": "[encoded data removed]",
      "text/plain": [
       "<Figure size 432x288 with 1 Axes>"
      ]
     },
     "metadata": {
      "needs_background": "light"
     },
     "output_type": "display_data"
    }
   ],
   "source": [
    "color = [\"black\", \"grey\"]\n",
    "sns.set_palette(color)\n",
    "ax = sns.barplot(data=men, x=\"Never Married\", y= \"Age Range\",hue=\"Year\")\n",
    "for i in ax.containers:\n",
    "    ax.bar_label(i,)"
   ]
  }
 ],
 "metadata": {
  "kernelspec": {
   "display_name": "Python 3 (ipykernel)",
   "language": "python",
   "name": "python3"
  },
  "language_info": {
   "codemirror_mode": {
    "name": "ipython",
    "version": 3
   },
   "file_extension": ".py",
   "mimetype": "text/x-python",
   "name": "python",
   "nbconvert_exporter": "python",
   "pygments_lexer": "ipython3",
   "version": "3.9.12"
  }
 },
 "nbformat": 4,
 "nbformat_minor": 5
}
